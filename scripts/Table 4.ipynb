{
 "cells": [
  {
   "cell_type": "code",
   "execution_count": 1,
   "id": "6462b5bb",
   "metadata": {},
   "outputs": [],
   "source": [
    "import pandas as pd\n",
    "import numpy as np\n",
    "from scipy import stats\n",
    "import pickle\n",
    "import ast\n",
    "from scipy.special import gamma, factorial\n",
    "import matplotlib.pyplot as plt\n",
    "from tqdm import tqdm"
   ]
  },
  {
   "cell_type": "code",
   "execution_count": 2,
   "id": "e8dba72e",
   "metadata": {},
   "outputs": [],
   "source": [
    "# Function to calculate the 95% confidence interval\n",
    "def mean_confidence_interval_95(data):\n",
    "    a = 1.0*np.array(data)\n",
    "    n = len(a)\n",
    "    m, se = np.mean(a), stats.sem(a)\n",
    "    h = 1.96*se\n",
    "    return m, m-h, m+h, h"
   ]
  },
  {
   "cell_type": "code",
   "execution_count": 3,
   "id": "ab652577",
   "metadata": {},
   "outputs": [],
   "source": [
    "# Function to generate a random variable following a multinomial distribution\n",
    "def RV_Multinomial(n, p, U):\n",
    "    X = np.zeros(len(p), dtype = int)\n",
    "    for i in range(n):\n",
    "        for j in range(len(p)):\n",
    "            if U[i] <= sum(p[k] for k in range(j+1)):\n",
    "                X[j] = X[j] + 1\n",
    "                break\n",
    "    return(X)"
   ]
  },
  {
   "cell_type": "code",
   "execution_count": 4,
   "id": "b0e52514",
   "metadata": {},
   "outputs": [],
   "source": [
    "# Class definition for a non-perishable inventory Markov Decision Process\n",
    "class NonPerishableInventoryMDP(object):\n",
    "    def startState(self):\n",
    "        # Initial state (e.g., zero inventory)\n",
    "        return 0\n",
    "\n",
    "    def orders(self, state):\n",
    "        # Returns list of valid actions (possible order sizes)\n",
    "        TopUp = list(range(21))\n",
    "        result = [max(x - state, 0) for x in TopUp]\n",
    "        return list(set(result))\n",
    "\n",
    "    def succProbCost(self, state, order, demand, size, prob, day, cs):\n",
    "        # Compute the successor states, probabilities, and associated costs\n",
    "        result = []\n",
    "        for i in range(len(demand)):\n",
    "            # Update state after demand\n",
    "            newState = max(order - max(demand[i] - state, 0), 0)\n",
    "            # Cost calculation:\n",
    "            # cs[0]: fixed ordering cost\n",
    "            # cs[1]: holding cost\n",
    "            # cs[2]: shortage cost\n",
    "            cost = cs[0] * int(order > 0) + cs[1] * max(order + state - demand[i], 0) + cs[2] * max(demand[i] - order - state, 0)\n",
    "            # Compute demand probabilities\n",
    "            if (demand[i] == 20):\n",
    "                dprob = 1 - sum(gamma(i + size[day]) * (prob[day] ** size[day]) * (1 - prob[day]) ** i / (gamma(size[day]) * factorial(i)) for i in range(20))\n",
    "                result.append((newState, dprob, cost))\n",
    "            else:\n",
    "                dprob = gamma(demand[i] + size[day]) * (prob[day] ** size[day]) * (1 - prob[day]) ** demand[i] / (gamma(size[day]) * factorial(demand[i]))\n",
    "                result.append((newState, dprob, cost))\n",
    "        return result\n",
    "\n",
    "    def discount(self):\n",
    "        # Discount factor for future costs\n",
    "        return 0.95\n",
    "\n",
    "    def states(self):\n",
    "        # List of all possible states (inventory levels)\n",
    "        return [i for i in range(21)]"
   ]
  },
  {
   "cell_type": "code",
   "execution_count": 5,
   "id": "caf6fa0e",
   "metadata": {},
   "outputs": [],
   "source": [
    "# Function to perform value iteration for the Non-Perishable Inventory MDP\n",
    "def NonPerishableValueIteration(mdp, demand, size, prob, cs):\n",
    "    # Initialize value function for each state and day\n",
    "    V = [{} for _ in range(7)]  # 7 days (one for each day of the week)\n",
    "    for i in range(7):\n",
    "        for state in mdp.states():\n",
    "            V[i][str(state)] = 0.\n",
    "\n",
    "    def Q(state, order, demand, day):\n",
    "        # Compute the expected cost for a given state, action, and day\n",
    "        return sum(dprob * (cost + mdp.discount() * V[(day + 1) % 7][str(newState)])\n",
    "                   for newState, dprob, cost in mdp.succProbCost(state, order, demand, size, prob, day, cs))\n",
    "\n",
    "    day = 0\n",
    "    # Initialize new values to store updated state values during iteration\n",
    "    newV = [{} for _ in range(7)]\n",
    "    for i in range(7):\n",
    "        for state in mdp.states():\n",
    "            newV[i][str(state)] = 0.\n",
    "\n",
    "    while True:\n",
    "\n",
    "        for state in mdp.states():\n",
    "            # Update value for each state by minimizing over all possible actions\n",
    "            newV[day][str(state)] = min(Q(state, order, demand, day) for order in mdp.orders(state))\n",
    "\n",
    "        # Check for convergence\n",
    "        if (day == 6):\n",
    "            if max(abs(V[day][str(state)] - newV[day][str(state)]) for day in range(7) for state in mdp.states()) < 0.1:\n",
    "                break\n",
    "            else:\n",
    "                V = newV\n",
    "                day = 0\n",
    "                # Reinitialize newV for the next iteration\n",
    "                newV = [{} for _ in range(7)]\n",
    "                for i in range(7):\n",
    "                    for state in mdp.states():\n",
    "                        newV[i][str(state)] = 0.\n",
    "        else:\n",
    "            day += 1\n",
    "\n",
    "    return V"
   ]
  },
  {
   "cell_type": "code",
   "execution_count": 6,
   "id": "69a3afbf",
   "metadata": {},
   "outputs": [],
   "source": [
    "# Function to calculate the approximate cost\n",
    "def ExpDisCost(state, order, day, b, rep=100, alpha=0.95):\n",
    "    x_list = []\n",
    "    rng1 = np.random.RandomState(seed=1)\n",
    "    rng2 = np.random.RandomState(seed=2)\n",
    "    # Use CRN in each replication\n",
    "    U = rng2.random((rep, 20))\n",
    "\n",
    "    for i in range(rep):\n",
    "        # Generate demand\n",
    "        demand = rng1.negative_binomial(size[day], prob[day])\n",
    "        if demand > 20:\n",
    "            demand = 20\n",
    "\n",
    "        P = []\n",
    "        for i in range(m):\n",
    "            if i < m - 1:\n",
    "                P.append(np.exp(c0[i] + c1[i] * order) / (1 + sum(np.exp(c0[j] + c1[j] * order) for j in range(m - 1))))\n",
    "            else:\n",
    "                P.insert(0, 1 - sum(P))\n",
    "        y = RV_Multinomial(order, P, U[i])\n",
    "\n",
    "        # Update the inventory state\n",
    "        newState = [0 for i in range(m - 1)]\n",
    "        for j in range(m - 2):\n",
    "            newState[m - 2 - j] = max(\n",
    "                state[m - 3 - j] + y[j + 1] - max(demand - sum(state[m - 2 - k] + y[k] for k in range(j + 1)), 0), 0)\n",
    "        newState[0] = max(y[m - 1] - max(demand - sum(state[m - 2 - k] + y[k] for k in range(m - 1)), 0), 0)\n",
    "\n",
    "        if str(newState) not in Vhat[(day + 1) % 7]:\n",
    "            data = [1]\n",
    "            data.append(VF.iloc[(day+1)%7][sum(newState)])\n",
    "            data.append(newState[0])\n",
    "            data.append(newState[1])\n",
    "            data.append(newState[2])\n",
    "            data.append(newState[3])\n",
    "            data.append(newState[0] ** 2)\n",
    "            data.append(newState[1] ** 2)\n",
    "            data.append(newState[2] ** 2)\n",
    "            data.append(newState[3] ** 2)\n",
    "            Vhat[(day + 1) % 7][str(newState)] = np.matmul(np.array(data), np.array(b[(day + 1) % 7]))\n",
    "\n",
    "        # Calculate the one period cost plus the discounted future cost\n",
    "        cost = cs[0] * int(order > 0) + cs[1] * max(order + sum(state) - demand, 0) + cs[2] * max(demand - order - sum(state), 0) + cs[3] * max(state[m - 2] + y[0] - demand, 0) + alpha * Vhat[(day + 1) % 7][str(newState)]\n",
    "        x_list.append(cost)\n",
    "\n",
    "    return np.mean(x_list)"
   ]
  },
  {
   "cell_type": "code",
   "execution_count": 7,
   "id": "9aa51f7a",
   "metadata": {},
   "outputs": [],
   "source": [
    "# Function to calculate the approximate order\n",
    "def ApproximateDecision(dow, s, b):\n",
    "    TopUp = list(range(21))\n",
    "    y = list(set([max(x - sum(s), 0) for x in TopUp]))\n",
    "    return min((ExpDisCost(s, order, dow, b), order) for order in y)[1]"
   ]
  },
  {
   "cell_type": "markdown",
   "id": "0b1f80ae",
   "metadata": {},
   "source": [
    "## Endog./Exog. Policy"
   ]
  },
  {
   "cell_type": "code",
   "execution_count": 8,
   "id": "f756cf58",
   "metadata": {},
   "outputs": [],
   "source": [
    "# read out the optimal policy\n",
    "open_file = open(\"ADPerf_ExcMyp_m5_CS.pkl\", \"rb\")\n",
    "ls = pickle.load(open_file)\n",
    "open_file.close()"
   ]
  },
  {
   "cell_type": "code",
   "execution_count": 9,
   "id": "e155e250",
   "metadata": {},
   "outputs": [
    {
     "data": {
      "text/plain": [
       "['[10, 1, 20, 2]',\n",
       " '[10, 1, 20, 2]',\n",
       " '[10, 1, 20, 2]',\n",
       " '[10, 1, 20, 2]',\n",
       " '[10, 1, 20, 2]',\n",
       " '[10, 1, 20, 2]',\n",
       " '[10, 1, 20, 2]',\n",
       " '[10, 1, 20, 2]',\n",
       " '[10, 1, 20, 2]',\n",
       " '[10, 1, 20, 2]',\n",
       " '[10, 1, 20, 2]']"
      ]
     },
     "execution_count": 9,
     "metadata": {},
     "output_type": "execute_result"
    }
   ],
   "source": [
    "ls[15]['CS']"
   ]
  },
  {
   "cell_type": "code",
   "execution_count": 10,
   "id": "3a994317",
   "metadata": {},
   "outputs": [
    {
     "data": {
      "text/plain": [
       "['[1.6, 2.6, 2.8, 1.6, 0.0, 0.0, 0.0, 0.0]',\n",
       " '[1.6, 2.6, 2.8, 1.6, 0.0, 0.0, 0.0, 0.0]',\n",
       " '[1.6, 2.6, 2.8, 1.6, 0.0, 0.0, 0.0, 0.0]',\n",
       " '[1.6, 2.6, 2.8, 1.6, 0.0, 0.0, 0.0, 0.0]',\n",
       " '[1.6, 2.6, 2.8, 1.6, 0.0, 0.0, 0.0, 0.0]',\n",
       " '[1.6, 2.6, 2.8, 1.6, 0.0, 0.0, 0.0, 0.0]',\n",
       " '[1.6, 2.6, 2.8, 1.6, 0.0, 0.0, 0.0, 0.0]',\n",
       " '[1.6, 2.6, 2.8, 1.6, 0.0, 0.0, 0.0, 0.0]',\n",
       " '[1.6, 2.6, 2.8, 1.6, 0.0, 0.0, 0.0, 0.0]',\n",
       " '[1.6, 2.6, 2.8, 1.6, 0.0, 0.0, 0.0, 0.0]',\n",
       " '[1.6, 2.6, 2.8, 1.6, 0.0, 0.0, 0.0, 0.0]']"
      ]
     },
     "execution_count": 10,
     "metadata": {},
     "output_type": "execute_result"
    }
   ],
   "source": [
    "ls[15]['Endog.']"
   ]
  },
  {
   "cell_type": "code",
   "execution_count": 11,
   "id": "ece4cd95",
   "metadata": {},
   "outputs": [
    {
     "name": "stdout",
     "output_type": "stream",
     "text": [
      "(319.3137618143541, 316.07100671952577, 322.55651690918245, 3.242755094828332)\n",
      "(312.7415824951767, 309.91569759861636, 315.56746739173707, 2.8258848965603605)\n",
      "(311.0619926091429, 308.2664049956615, 313.85758022262434, 2.7955876134814193)\n",
      "(310.6243120937067, 307.82523154695707, 313.4233926404563, 2.799080546749615)\n",
      "(310.2439547547096, 307.44986494941617, 313.038044560003, 2.7940898052934005)\n",
      "(309.71734794869764, 306.9635469367159, 312.4711489606794, 2.7538010119817775)\n",
      "(309.7317772957756, 306.9757300790987, 312.4878245124525, 2.7560472166768877)\n",
      "(309.57799613457047, 306.8151199047349, 312.34087236440604, 2.7628762298355762)\n",
      "(309.714873396404, 306.94662342601777, 312.48312336679027, 2.768249970386258)\n",
      "(309.2115797732454, 306.44440609655624, 311.9787534499345, 2.767173676689148)\n",
      "(308.8562103087523, 306.0884905372743, 311.62393008023025, 2.7677197714779735)\n"
     ]
    }
   ],
   "source": [
    "for i in range(11):\n",
    "    print(mean_confidence_interval_95(ls[15]['Cost'][i]))"
   ]
  },
  {
   "cell_type": "code",
   "execution_count": 12,
   "id": "9e14fa7f",
   "metadata": {},
   "outputs": [],
   "source": [
    "b = ls[15]['b'][10]\n",
    "pi = ls[15]['pi'][10]\n",
    "Vhat = [{} for i in range(7)]"
   ]
  },
  {
   "cell_type": "code",
   "execution_count": 13,
   "id": "081280b3",
   "metadata": {},
   "outputs": [],
   "source": [
    "Plogit = ast.literal_eval(ls[15]['Endog.'][10])\n",
    "c0 = [Plogit[0], Plogit[1], Plogit[2], Plogit[3]]\n",
    "c1 = [Plogit[4], Plogit[5], Plogit[6], Plogit[7]]"
   ]
  },
  {
   "cell_type": "code",
   "execution_count": 14,
   "id": "52f90e46",
   "metadata": {},
   "outputs": [],
   "source": [
    "cs = [10, 1, 20, 2]\n",
    "size = [3.497361, 10.985837, 7.183407, 11.064622, 5.930222, 5.473242, 2.193797]\n",
    "prob = [size[0] / (size[0] + 5.660569), size[1] / (size[1] + 6.922555), size[2] / (size[2] + 6.504332),\n",
    "        size[3] / (size[3] + 6.165049), size[4] / (size[4] + 5.816060), size[5] / (size[5] + 3.326408),\n",
    "        size[6] / (size[6] + 3.426814)]\n",
    "d = list(range(21))"
   ]
  },
  {
   "cell_type": "code",
   "execution_count": 15,
   "id": "22d17769",
   "metadata": {},
   "outputs": [],
   "source": [
    "# Value function for the corresponding non-perishable inventory problem\n",
    "mdp = NonPerishableInventoryMDP()\n",
    "VFDic = NonPerishableValueIteration(mdp, demand=d, size=size, prob=prob, cs=cs)\n",
    "VF = pd.DataFrame.from_dict(VFDic, orient='columns')"
   ]
  },
  {
   "cell_type": "markdown",
   "id": "9e1c6c70",
   "metadata": {},
   "source": [
    "## Deter. Policy"
   ]
  },
  {
   "cell_type": "code",
   "execution_count": 16,
   "id": "3e3b3f2b",
   "metadata": {},
   "outputs": [],
   "source": [
    "# read out the optimal policy\n",
    "open_file = open(\"DetPolicy_m5_CS.pkl\", \"rb\")\n",
    "DetPolicy = pickle.load(open_file)\n",
    "open_file.close()"
   ]
  },
  {
   "cell_type": "code",
   "execution_count": 17,
   "id": "14131e2f",
   "metadata": {},
   "outputs": [
    {
     "data": {
      "text/plain": [
       "'[10, 1, 20, 2]'"
      ]
     },
     "execution_count": 17,
     "metadata": {},
     "output_type": "execute_result"
    }
   ],
   "source": [
    "DetPolicy[3]['CS']"
   ]
  },
  {
   "cell_type": "code",
   "execution_count": 24,
   "id": "b3af92b3",
   "metadata": {},
   "outputs": [],
   "source": [
    "pi = DetPolicy[3]['OP']\n",
    "Vhat = [{} for i in range(7)]"
   ]
  },
  {
   "cell_type": "markdown",
   "id": "3d69e5e9",
   "metadata": {},
   "source": [
    "## LB Policy"
   ]
  },
  {
   "cell_type": "code",
   "execution_count": 19,
   "id": "459fb32c",
   "metadata": {},
   "outputs": [],
   "source": [
    "# read out the optimal policy\n",
    "open_file = open(\"InfoRelaxRandHorizonLength_m5_Rep4000_CaseStudy_Cost101202.pkl\", \"rb\")\n",
    "result = pickle.load(open_file)\n",
    "open_file.close()"
   ]
  },
  {
   "cell_type": "code",
   "execution_count": 20,
   "id": "d9474366",
   "metadata": {},
   "outputs": [],
   "source": [
    "pi = [{} for i in range(7)]\n",
    "Vhat = result"
   ]
  },
  {
   "cell_type": "markdown",
   "id": "5db46c40",
   "metadata": {},
   "source": [
    "## Out-of-Sample Performance"
   ]
  },
  {
   "cell_type": "code",
   "execution_count": 21,
   "id": "cc78af43",
   "metadata": {},
   "outputs": [],
   "source": [
    "def ExpCost(pi, demand, alpha = 0.95, replication = 100):\n",
    "    result = []\n",
    "    rng6 = np.random.RandomState(seed=5)\n",
    "    rng7 = np.random.RandomState(seed=6)\n",
    "    \n",
    "    N = len(demand)\n",
    "    \n",
    "    U = rng7.random((replication, N, 20))\n",
    "    \n",
    "    f = np.zeros((N, replication))\n",
    "    h = np.zeros((N, replication))\n",
    "    l = np.zeros((N, replication)) \n",
    "    w = np.zeros((N, replication))\n",
    "    x = np.zeros((N, replication))\n",
    "    q = np.zeros((N, replication))\n",
    "\n",
    "    for rep in tqdm(range(replication)):\n",
    "                \n",
    "        state = [0 for i in range(m-1)]\n",
    "        cost = 0\n",
    "        for t in range (N):\n",
    "            day = t % 7\n",
    "            # Find the order size that minimizes the expected discounted cost\n",
    "            if str(str(state)) in pi[day]:\n",
    "                order = pi[day][str(state)]\n",
    "            else:    \n",
    "                order = ApproximateDecision(day, state, b)\n",
    "                pi[day][str(state)] = order\n",
    "            \n",
    "            x[t, rep] = order\n",
    "            q[t,rep] = sum(state) + order\n",
    "            # Generate initial ages\n",
    "            P = []\n",
    "            for i in range(m):\n",
    "                if i < m-1:\n",
    "                    P.append(np.exp(c0_test[i] + c1_test[i] * order)/(1 + sum(np.exp(c0_test[j] + c1_test[j] * order) for j in range(m-1))))\n",
    "                else:\n",
    "                    P.insert(0, 1-sum(P))         \n",
    "            y = RV_Multinomial(order, P, U[rep][t])\n",
    "\n",
    "            f[t, rep] = int(order>0)\n",
    "            h[t, rep] = max(order + sum(state) - demand[t], 0)\n",
    "            l[t, rep] = max(demand[t] - order - sum(state), 0)\n",
    "            w[t, rep] = max(state[m-2] + y[0] - demand[t], 0)\n",
    "           # Update the inventory state\n",
    "            newState = [0 for i in range(m-1)]\n",
    "            for j in range(m-2):\n",
    "                newState[m-2-j] = max(state[m-3-j] + y[j+1] - max(demand[t] - sum(state[m-2-k] + y[k] for k in range(j+1)), 0), 0)\n",
    "            newState[0] = max(y[m-1] - max(demand[t] - sum(state[m-2-k] + y[k] for k in range(m-1)), 0), 0)\n",
    "            cost += pow(alpha, t)*(cs[0]*int(order>0) + cs[1]*max(order + sum(state) - demand[t], 0) + cs[2]*max(demand[t] - order - sum(state), 0) + cs[3]*max(state[m-2] + y[0] - demand[t], 0))\n",
    "            state = newState\n",
    "            \n",
    "        result.append(cost)  \n",
    "     \n",
    "    return result, f, h, l, w, x, q    "
   ]
  },
  {
   "cell_type": "code",
   "execution_count": 22,
   "id": "94b3469e",
   "metadata": {},
   "outputs": [],
   "source": [
    "m = 5\n",
    "cs = [10, 1, 20, 2]\n",
    "Plogit_test = [1.9, 3.1, 3.1, 2.5, -0.03, -0.06, -0.03, -0.09]\n",
    "c0_test = [Plogit_test[0], Plogit_test[1], Plogit_test[2], Plogit_test[3]]\n",
    "c1_test = [Plogit_test[4], Plogit_test[5], Plogit_test[6], Plogit_test[7]]\n",
    "size = [3.497361, 10.985837, 7.183407, 11.064622, 5.930222, 5.473242, 2.193797]\n",
    "prob = [size[0] / (size[0] + 5.660569), size[1] / (size[1] + 6.922555), size[2] / (size[2] + 6.504332),\n",
    "        size[3] / (size[3] + 6.165049), size[4] / (size[4] + 5.816060), size[5] / (size[5] + 3.326408),\n",
    "        size[6] / (size[6] + 3.426814)]\n",
    "d = list(range(21))"
   ]
  },
  {
   "cell_type": "code",
   "execution_count": 23,
   "id": "a62c5590",
   "metadata": {},
   "outputs": [],
   "source": [
    "# Simulate out-of-sample demand data\n",
    "\n",
    "# Generate the sequence of dates\n",
    "dates = pd.date_range(start=\"2017-01-01\", end=\"2017-12-31\", freq=\"D\")\n",
    "\n",
    "# Generate random demand for each day\n",
    "np.random.seed(123)  # For reproducibility\n",
    "y = [np.random.negative_binomial(size[day], prob[day]) for day in dates.weekday]"
   ]
  },
  {
   "cell_type": "code",
   "execution_count": 25,
   "id": "f4e38c15",
   "metadata": {},
   "outputs": [
    {
     "name": "stderr",
     "output_type": "stream",
     "text": [
      "100%|████████████████████████████████████████████████████████████████████████████████| 100/100 [00:03<00:00, 31.81it/s]\n"
     ]
    }
   ],
   "source": [
    "Cost, fixed, holding, shortage, wastage, ordersize, targetlevels = ExpCost(pi , demand = y, alpha = 0.95, replication = 100)"
   ]
  },
  {
   "cell_type": "code",
   "execution_count": 26,
   "id": "123b7baf",
   "metadata": {},
   "outputs": [
    {
     "data": {
      "text/plain": [
       "(44.81643835616438, 44.744766994650234, 44.88810971767853, 0.07167136151415161)"
      ]
     },
     "execution_count": 26,
     "metadata": {},
     "output_type": "execute_result"
    }
   ],
   "source": [
    "mean_confidence_interval_95(fixed.sum(axis=0)*100/365)"
   ]
  },
  {
   "cell_type": "code",
   "execution_count": 27,
   "id": "be9e0dfd",
   "metadata": {},
   "outputs": [
    {
     "data": {
      "text/plain": [
       "(2014.62, 2013.2971653601282, 2015.9428346398715, 1.3228346398716828)"
      ]
     },
     "execution_count": 27,
     "metadata": {},
     "output_type": "execute_result"
    }
   ],
   "source": [
    "mean_confidence_interval_95(shortage.sum(axis = 0) + ordersize.sum(axis = 0))"
   ]
  },
  {
   "cell_type": "code",
   "execution_count": 28,
   "id": "40af1847",
   "metadata": {},
   "outputs": [
    {
     "data": {
      "text/plain": [
       "(7.758794520547946, 7.750816601677014, 7.766772439418878, 0.00797791887093213)"
      ]
     },
     "execution_count": 28,
     "metadata": {},
     "output_type": "execute_result"
    }
   ],
   "source": [
    "mean_confidence_interval_95(holding.sum(axis=0)/365)"
   ]
  },
  {
   "cell_type": "code",
   "execution_count": 29,
   "id": "9a32fc69",
   "metadata": {},
   "outputs": [
    {
     "data": {
      "text/plain": [
       "(3.2174221973760706,\n",
       " 3.169427649779203,\n",
       " 3.265416744972938,\n",
       " 0.047994547596867713)"
      ]
     },
     "execution_count": 29,
     "metadata": {},
     "output_type": "execute_result"
    }
   ],
   "source": [
    "mean_confidence_interval_95(shortage.sum(axis = 0)/(shortage.sum(axis = 0) + ordersize.sum(axis = 0))*100)"
   ]
  },
  {
   "cell_type": "code",
   "execution_count": 30,
   "id": "d3aea855",
   "metadata": {},
   "outputs": [
    {
     "data": {
      "text/plain": [
       "(4.4553387923575585,\n",
       " 4.3906687210431885,\n",
       " 4.5200088636719284,\n",
       " 0.06467007131436998)"
      ]
     },
     "execution_count": 30,
     "metadata": {},
     "output_type": "execute_result"
    }
   ],
   "source": [
    "mean_confidence_interval_95(wastage.sum(axis = 0)/(shortage.sum(axis = 0) + ordersize.sum(axis = 0))*100)"
   ]
  },
  {
   "cell_type": "code",
   "execution_count": 31,
   "id": "8eb13b0b",
   "metadata": {},
   "outputs": [
    {
     "data": {
      "text/plain": [
       "(295.99441212547475, 292.30963316702395, 299.67919108392556, 3.684778958450829)"
      ]
     },
     "execution_count": 31,
     "metadata": {},
     "output_type": "execute_result"
    }
   ],
   "source": [
    "mean_confidence_interval_95(Cost)"
   ]
  },
  {
   "cell_type": "code",
   "execution_count": 32,
   "id": "7f5b0c30",
   "metadata": {},
   "outputs": [
    {
     "data": {
      "text/html": [
       "<div>\n",
       "<style scoped>\n",
       "    .dataframe tbody tr th:only-of-type {\n",
       "        vertical-align: middle;\n",
       "    }\n",
       "\n",
       "    .dataframe tbody tr th {\n",
       "        vertical-align: top;\n",
       "    }\n",
       "\n",
       "    .dataframe thead th {\n",
       "        text-align: right;\n",
       "    }\n",
       "</style>\n",
       "<table border=\"1\" class=\"dataframe\">\n",
       "  <thead>\n",
       "    <tr style=\"text-align: right;\">\n",
       "      <th></th>\n",
       "      <th>0</th>\n",
       "      <th>1</th>\n",
       "      <th>2</th>\n",
       "      <th>3</th>\n",
       "      <th>4</th>\n",
       "      <th>5</th>\n",
       "      <th>6</th>\n",
       "      <th>7</th>\n",
       "      <th>8</th>\n",
       "      <th>9</th>\n",
       "      <th>...</th>\n",
       "      <th>90</th>\n",
       "      <th>91</th>\n",
       "      <th>92</th>\n",
       "      <th>93</th>\n",
       "      <th>94</th>\n",
       "      <th>95</th>\n",
       "      <th>96</th>\n",
       "      <th>97</th>\n",
       "      <th>98</th>\n",
       "      <th>99</th>\n",
       "    </tr>\n",
       "  </thead>\n",
       "  <tbody>\n",
       "    <tr>\n",
       "      <th>0</th>\n",
       "      <td>17.0</td>\n",
       "      <td>17.0</td>\n",
       "      <td>17.0</td>\n",
       "      <td>17.0</td>\n",
       "      <td>17.0</td>\n",
       "      <td>17.0</td>\n",
       "      <td>17.0</td>\n",
       "      <td>17.0</td>\n",
       "      <td>17.0</td>\n",
       "      <td>17.0</td>\n",
       "      <td>...</td>\n",
       "      <td>17.0</td>\n",
       "      <td>17.0</td>\n",
       "      <td>17.0</td>\n",
       "      <td>17.0</td>\n",
       "      <td>17.0</td>\n",
       "      <td>17.0</td>\n",
       "      <td>17.0</td>\n",
       "      <td>17.0</td>\n",
       "      <td>17.0</td>\n",
       "      <td>17.0</td>\n",
       "    </tr>\n",
       "    <tr>\n",
       "      <th>1</th>\n",
       "      <td>15.0</td>\n",
       "      <td>15.0</td>\n",
       "      <td>15.0</td>\n",
       "      <td>15.0</td>\n",
       "      <td>15.0</td>\n",
       "      <td>15.0</td>\n",
       "      <td>15.0</td>\n",
       "      <td>15.0</td>\n",
       "      <td>15.0</td>\n",
       "      <td>15.0</td>\n",
       "      <td>...</td>\n",
       "      <td>15.0</td>\n",
       "      <td>15.0</td>\n",
       "      <td>15.0</td>\n",
       "      <td>15.0</td>\n",
       "      <td>15.0</td>\n",
       "      <td>15.0</td>\n",
       "      <td>15.0</td>\n",
       "      <td>15.0</td>\n",
       "      <td>15.0</td>\n",
       "      <td>15.0</td>\n",
       "    </tr>\n",
       "    <tr>\n",
       "      <th>2</th>\n",
       "      <td>17.0</td>\n",
       "      <td>17.0</td>\n",
       "      <td>17.0</td>\n",
       "      <td>17.0</td>\n",
       "      <td>17.0</td>\n",
       "      <td>16.0</td>\n",
       "      <td>17.0</td>\n",
       "      <td>16.0</td>\n",
       "      <td>17.0</td>\n",
       "      <td>17.0</td>\n",
       "      <td>...</td>\n",
       "      <td>17.0</td>\n",
       "      <td>16.0</td>\n",
       "      <td>16.0</td>\n",
       "      <td>17.0</td>\n",
       "      <td>16.0</td>\n",
       "      <td>16.0</td>\n",
       "      <td>17.0</td>\n",
       "      <td>16.0</td>\n",
       "      <td>17.0</td>\n",
       "      <td>17.0</td>\n",
       "    </tr>\n",
       "    <tr>\n",
       "      <th>3</th>\n",
       "      <td>8.0</td>\n",
       "      <td>8.0</td>\n",
       "      <td>8.0</td>\n",
       "      <td>8.0</td>\n",
       "      <td>8.0</td>\n",
       "      <td>16.0</td>\n",
       "      <td>8.0</td>\n",
       "      <td>16.0</td>\n",
       "      <td>8.0</td>\n",
       "      <td>8.0</td>\n",
       "      <td>...</td>\n",
       "      <td>8.0</td>\n",
       "      <td>16.0</td>\n",
       "      <td>16.0</td>\n",
       "      <td>8.0</td>\n",
       "      <td>16.0</td>\n",
       "      <td>16.0</td>\n",
       "      <td>8.0</td>\n",
       "      <td>16.0</td>\n",
       "      <td>8.0</td>\n",
       "      <td>8.0</td>\n",
       "    </tr>\n",
       "    <tr>\n",
       "      <th>4</th>\n",
       "      <td>14.0</td>\n",
       "      <td>14.0</td>\n",
       "      <td>14.0</td>\n",
       "      <td>14.0</td>\n",
       "      <td>14.0</td>\n",
       "      <td>12.0</td>\n",
       "      <td>14.0</td>\n",
       "      <td>12.0</td>\n",
       "      <td>14.0</td>\n",
       "      <td>14.0</td>\n",
       "      <td>...</td>\n",
       "      <td>14.0</td>\n",
       "      <td>12.0</td>\n",
       "      <td>12.0</td>\n",
       "      <td>14.0</td>\n",
       "      <td>12.0</td>\n",
       "      <td>12.0</td>\n",
       "      <td>14.0</td>\n",
       "      <td>12.0</td>\n",
       "      <td>14.0</td>\n",
       "      <td>14.0</td>\n",
       "    </tr>\n",
       "    <tr>\n",
       "      <th>...</th>\n",
       "      <td>...</td>\n",
       "      <td>...</td>\n",
       "      <td>...</td>\n",
       "      <td>...</td>\n",
       "      <td>...</td>\n",
       "      <td>...</td>\n",
       "      <td>...</td>\n",
       "      <td>...</td>\n",
       "      <td>...</td>\n",
       "      <td>...</td>\n",
       "      <td>...</td>\n",
       "      <td>...</td>\n",
       "      <td>...</td>\n",
       "      <td>...</td>\n",
       "      <td>...</td>\n",
       "      <td>...</td>\n",
       "      <td>...</td>\n",
       "      <td>...</td>\n",
       "      <td>...</td>\n",
       "      <td>...</td>\n",
       "      <td>...</td>\n",
       "    </tr>\n",
       "    <tr>\n",
       "      <th>360</th>\n",
       "      <td>16.0</td>\n",
       "      <td>16.0</td>\n",
       "      <td>16.0</td>\n",
       "      <td>16.0</td>\n",
       "      <td>16.0</td>\n",
       "      <td>16.0</td>\n",
       "      <td>16.0</td>\n",
       "      <td>16.0</td>\n",
       "      <td>16.0</td>\n",
       "      <td>16.0</td>\n",
       "      <td>...</td>\n",
       "      <td>16.0</td>\n",
       "      <td>16.0</td>\n",
       "      <td>16.0</td>\n",
       "      <td>16.0</td>\n",
       "      <td>16.0</td>\n",
       "      <td>16.0</td>\n",
       "      <td>16.0</td>\n",
       "      <td>16.0</td>\n",
       "      <td>16.0</td>\n",
       "      <td>16.0</td>\n",
       "    </tr>\n",
       "    <tr>\n",
       "      <th>361</th>\n",
       "      <td>15.0</td>\n",
       "      <td>15.0</td>\n",
       "      <td>15.0</td>\n",
       "      <td>15.0</td>\n",
       "      <td>12.0</td>\n",
       "      <td>14.0</td>\n",
       "      <td>15.0</td>\n",
       "      <td>15.0</td>\n",
       "      <td>15.0</td>\n",
       "      <td>15.0</td>\n",
       "      <td>...</td>\n",
       "      <td>15.0</td>\n",
       "      <td>15.0</td>\n",
       "      <td>15.0</td>\n",
       "      <td>15.0</td>\n",
       "      <td>15.0</td>\n",
       "      <td>15.0</td>\n",
       "      <td>15.0</td>\n",
       "      <td>15.0</td>\n",
       "      <td>15.0</td>\n",
       "      <td>15.0</td>\n",
       "    </tr>\n",
       "    <tr>\n",
       "      <th>362</th>\n",
       "      <td>11.0</td>\n",
       "      <td>12.0</td>\n",
       "      <td>12.0</td>\n",
       "      <td>12.0</td>\n",
       "      <td>9.0</td>\n",
       "      <td>11.0</td>\n",
       "      <td>12.0</td>\n",
       "      <td>12.0</td>\n",
       "      <td>12.0</td>\n",
       "      <td>12.0</td>\n",
       "      <td>...</td>\n",
       "      <td>12.0</td>\n",
       "      <td>12.0</td>\n",
       "      <td>11.0</td>\n",
       "      <td>12.0</td>\n",
       "      <td>12.0</td>\n",
       "      <td>12.0</td>\n",
       "      <td>12.0</td>\n",
       "      <td>12.0</td>\n",
       "      <td>12.0</td>\n",
       "      <td>12.0</td>\n",
       "    </tr>\n",
       "    <tr>\n",
       "      <th>363</th>\n",
       "      <td>15.0</td>\n",
       "      <td>16.0</td>\n",
       "      <td>16.0</td>\n",
       "      <td>17.0</td>\n",
       "      <td>15.0</td>\n",
       "      <td>16.0</td>\n",
       "      <td>16.0</td>\n",
       "      <td>16.0</td>\n",
       "      <td>17.0</td>\n",
       "      <td>16.0</td>\n",
       "      <td>...</td>\n",
       "      <td>16.0</td>\n",
       "      <td>17.0</td>\n",
       "      <td>16.0</td>\n",
       "      <td>16.0</td>\n",
       "      <td>17.0</td>\n",
       "      <td>16.0</td>\n",
       "      <td>16.0</td>\n",
       "      <td>16.0</td>\n",
       "      <td>16.0</td>\n",
       "      <td>16.0</td>\n",
       "    </tr>\n",
       "    <tr>\n",
       "      <th>364</th>\n",
       "      <td>13.0</td>\n",
       "      <td>14.0</td>\n",
       "      <td>14.0</td>\n",
       "      <td>12.0</td>\n",
       "      <td>13.0</td>\n",
       "      <td>13.0</td>\n",
       "      <td>14.0</td>\n",
       "      <td>12.0</td>\n",
       "      <td>13.0</td>\n",
       "      <td>14.0</td>\n",
       "      <td>...</td>\n",
       "      <td>14.0</td>\n",
       "      <td>12.0</td>\n",
       "      <td>11.0</td>\n",
       "      <td>14.0</td>\n",
       "      <td>11.0</td>\n",
       "      <td>14.0</td>\n",
       "      <td>14.0</td>\n",
       "      <td>12.0</td>\n",
       "      <td>13.0</td>\n",
       "      <td>14.0</td>\n",
       "    </tr>\n",
       "  </tbody>\n",
       "</table>\n",
       "<p>365 rows × 100 columns</p>\n",
       "</div>"
      ],
      "text/plain": [
       "       0     1     2     3     4     5     6     7     8     9   ...    90  \\\n",
       "0    17.0  17.0  17.0  17.0  17.0  17.0  17.0  17.0  17.0  17.0  ...  17.0   \n",
       "1    15.0  15.0  15.0  15.0  15.0  15.0  15.0  15.0  15.0  15.0  ...  15.0   \n",
       "2    17.0  17.0  17.0  17.0  17.0  16.0  17.0  16.0  17.0  17.0  ...  17.0   \n",
       "3     8.0   8.0   8.0   8.0   8.0  16.0   8.0  16.0   8.0   8.0  ...   8.0   \n",
       "4    14.0  14.0  14.0  14.0  14.0  12.0  14.0  12.0  14.0  14.0  ...  14.0   \n",
       "..    ...   ...   ...   ...   ...   ...   ...   ...   ...   ...  ...   ...   \n",
       "360  16.0  16.0  16.0  16.0  16.0  16.0  16.0  16.0  16.0  16.0  ...  16.0   \n",
       "361  15.0  15.0  15.0  15.0  12.0  14.0  15.0  15.0  15.0  15.0  ...  15.0   \n",
       "362  11.0  12.0  12.0  12.0   9.0  11.0  12.0  12.0  12.0  12.0  ...  12.0   \n",
       "363  15.0  16.0  16.0  17.0  15.0  16.0  16.0  16.0  17.0  16.0  ...  16.0   \n",
       "364  13.0  14.0  14.0  12.0  13.0  13.0  14.0  12.0  13.0  14.0  ...  14.0   \n",
       "\n",
       "       91    92    93    94    95    96    97    98    99  \n",
       "0    17.0  17.0  17.0  17.0  17.0  17.0  17.0  17.0  17.0  \n",
       "1    15.0  15.0  15.0  15.0  15.0  15.0  15.0  15.0  15.0  \n",
       "2    16.0  16.0  17.0  16.0  16.0  17.0  16.0  17.0  17.0  \n",
       "3    16.0  16.0   8.0  16.0  16.0   8.0  16.0   8.0   8.0  \n",
       "4    12.0  12.0  14.0  12.0  12.0  14.0  12.0  14.0  14.0  \n",
       "..    ...   ...   ...   ...   ...   ...   ...   ...   ...  \n",
       "360  16.0  16.0  16.0  16.0  16.0  16.0  16.0  16.0  16.0  \n",
       "361  15.0  15.0  15.0  15.0  15.0  15.0  15.0  15.0  15.0  \n",
       "362  12.0  11.0  12.0  12.0  12.0  12.0  12.0  12.0  12.0  \n",
       "363  17.0  16.0  16.0  17.0  16.0  16.0  16.0  16.0  16.0  \n",
       "364  12.0  11.0  14.0  11.0  14.0  14.0  12.0  13.0  14.0  \n",
       "\n",
       "[365 rows x 100 columns]"
      ]
     },
     "execution_count": 32,
     "metadata": {},
     "output_type": "execute_result"
    }
   ],
   "source": [
    "pd.DataFrame(targetlevels)"
   ]
  },
  {
   "cell_type": "code",
   "execution_count": null,
   "id": "d2d94910",
   "metadata": {},
   "outputs": [],
   "source": []
  },
  {
   "cell_type": "markdown",
   "id": "155230ae",
   "metadata": {},
   "source": [
    "## $(s, S)$ Policy"
   ]
  },
  {
   "cell_type": "code",
   "execution_count": 33,
   "id": "4ef49b5c",
   "metadata": {},
   "outputs": [],
   "source": [
    "# Function to calculate the expected cost\n",
    "def ExpCost_sS(pi, alpha = 0.95, N = 365, replication = 1000):\n",
    "    result = []\n",
    "    rng1 = np.random.RandomState(seed=5)\n",
    "    rng2 = np.random.RandomState(seed=6)\n",
    "    \n",
    "    U = rng2.random((replication, N, 20))\n",
    "    \n",
    "    f = np.zeros((N, replication))\n",
    "    h = np.zeros((N, replication))\n",
    "    l = np.zeros((N, replication)) \n",
    "    w = np.zeros((N, replication))\n",
    "    x = np.zeros((N, replication))\n",
    "    q = np.zeros((N, replication))\n",
    "\n",
    "    for rep in range(replication):\n",
    "                \n",
    "        state = [0 for i in range(m-1)]\n",
    "        cost = 0\n",
    "        for t in range (N):\n",
    "            day = t % 7\n",
    "\n",
    "            if sum(state) < int(pi[0]):\n",
    "                order = int(pi[1]) - sum(state)\n",
    "            else: \n",
    "                order = 0\n",
    "            \n",
    "            x[t, rep] = order\n",
    "            q[t,rep] = sum(state) + order\n",
    "            # Generate initial ages\n",
    "            P = []\n",
    "            for i in range(m):\n",
    "                if i < m-1:\n",
    "                    P.append(np.exp(c0_test[i] + c1_test[i] * order)/(1 + sum(np.exp(c0_test[j] + c1_test[j] * order) for j in range(m-1))))\n",
    "                else:\n",
    "                    P.insert(0, 1-sum(P))         \n",
    "            y = RV_Multinomial(order, P, U[rep][t])\n",
    "            \n",
    "            # Generate demand\n",
    "            demand = rng1.negative_binomial(size[day], prob[day])\n",
    "            if demand > 20:\n",
    "                demand = 20\n",
    "\n",
    "            f[t, rep] = int(order>0)\n",
    "            h[t, rep] = max(order + sum(state) - demand, 0)\n",
    "            l[t, rep] = max(demand - order - sum(state), 0)\n",
    "            w[t, rep] = max(state[m-2] + y[0] - demand, 0)\n",
    "           # Update the inventory state\n",
    "            newState = [0 for i in range(m-1)]\n",
    "            for j in range(m-2):\n",
    "                newState[m-2-j] = max(state[m-3-j] + y[j+1] - max(demand - sum(state[m-2-k] + y[k] for k in range(j+1)), 0), 0)\n",
    "            newState[0] = max(y[m-1] - max(demand - sum(state[m-2-k] + y[k] for k in range(m-1)), 0), 0)\n",
    "            cost += pow(alpha, t)*(cs[0]*int(order>0) + cs[1]*max(order + sum(state) - demand, 0) + cs[2]*max(demand - order - sum(state), 0) + cs[3]*max(state[m-2] + y[0] - demand, 0))\n",
    "            state = newState\n",
    "            \n",
    "        result.append(cost)  \n",
    "     \n",
    "    return result   "
   ]
  },
  {
   "cell_type": "code",
   "execution_count": 34,
   "id": "6f5dfcef",
   "metadata": {},
   "outputs": [],
   "source": [
    "m = 5\n",
    "cs = [10, 1, 20, 2]\n",
    "c0_test = [1.9, 3.1, 3.1, 2.5]\n",
    "c1_test = [-0.03, -0.06, -0.03, -0.09]\n",
    "size = [3.497361, 10.985837, 7.183407, 11.064622, 5.930222, 5.473242, 2.193797]\n",
    "prob = [size[0] / (size[0] + 5.660569), size[1] / (size[1] + 6.922555), size[2] / (size[2] + 6.504332),\n",
    "        size[3] / (size[3] + 6.165049), size[4] / (size[4] + 5.816060), size[5] / (size[5] + 3.326408),\n",
    "        size[6] / (size[6] + 3.426814)]"
   ]
  },
  {
   "cell_type": "code",
   "execution_count": 35,
   "id": "b8d28a06",
   "metadata": {},
   "outputs": [],
   "source": [
    "# Define grid search for (s, S) parameters\n",
    "s_min = 1\n",
    "s_max = 20\n",
    "S_min = 1\n",
    "S_max = 20\n",
    "increment_size = 1\n",
    "\n",
    "s_values = np.linspace(s_min, s_max, int((s_max-s_min)/increment_size)+1)\n",
    "S_values = np.linspace(S_min, S_max, int((S_max-S_min)/increment_size)+1)\n",
    "\n",
    "grid_search_sS_values =[]\n",
    "for x in s_values:\n",
    "    for y in S_values:\n",
    "        sS = (x, y)\n",
    "        grid_search_sS_values.append(sS)"
   ]
  },
  {
   "cell_type": "code",
   "execution_count": 36,
   "id": "d1f29b9d",
   "metadata": {},
   "outputs": [],
   "source": [
    "grid_search_sS_values_relevant = []\n",
    "for sS in grid_search_sS_values:\n",
    "    if (sS[0] < sS[1]):\n",
    "        grid_search_sS_values_relevant.append(sS)"
   ]
  },
  {
   "cell_type": "code",
   "execution_count": null,
   "id": "a5b4f4c9",
   "metadata": {},
   "outputs": [],
   "source": [
    "%%time\n",
    "ECost = []\n",
    "for sS in tqdm(grid_search_sS_values_relevant):\n",
    "    Cost = ExpCost_sS(sS)\n",
    "    ECost.append(mean_confidence_interval_95(Cost)[0])"
   ]
  },
  {
   "cell_type": "code",
   "execution_count": null,
   "id": "18ab623c",
   "metadata": {},
   "outputs": [],
   "source": [
    "ECost.index(min(ECost))"
   ]
  },
  {
   "cell_type": "code",
   "execution_count": null,
   "id": "15f2c4bd",
   "metadata": {},
   "outputs": [],
   "source": [
    "# Extract (s, S) policy minimizing the expected cost\n",
    "grid_search_sS_values_relevant[ECost.index(min(ECost))]"
   ]
  },
  {
   "cell_type": "markdown",
   "id": "36fa5539",
   "metadata": {},
   "source": [
    "## Out-of-Sample Performance"
   ]
  },
  {
   "cell_type": "code",
   "execution_count": 37,
   "id": "db77e7a2",
   "metadata": {},
   "outputs": [],
   "source": [
    "def ExpCost_sS(pi, demand, alpha = 0.95, replication = 100):\n",
    "    result = []\n",
    "    rng6 = np.random.RandomState(seed=5)\n",
    "    rng7 = np.random.RandomState(seed=6)\n",
    "    \n",
    "    N = len(demand)\n",
    "    \n",
    "    U = rng7.random((replication, N, 20))\n",
    "    \n",
    "    f = np.zeros((N, replication))\n",
    "    h = np.zeros((N, replication))\n",
    "    l = np.zeros((N, replication)) \n",
    "    w = np.zeros((N, replication))\n",
    "    x = np.zeros((N, replication))\n",
    "    q = np.zeros((N, replication))\n",
    "\n",
    "    for rep in range(replication):\n",
    "                \n",
    "        state = [0 for i in range(m-1)]\n",
    "        cost = 0\n",
    "        for t in range (N):\n",
    "            day = t % 7\n",
    "            \n",
    "            if sum(state) < int(pi[0]):\n",
    "                order = int(pi[1]) - sum(state)\n",
    "            else: \n",
    "                order = 0\n",
    "            \n",
    "            x[t, rep] = order\n",
    "            q[t,rep] = sum(state) + order\n",
    "            # Generate initial ages\n",
    "            P = []\n",
    "            for i in range(m):\n",
    "                if i < m-1:\n",
    "                    P.append(np.exp(c0_test[i] + c1_test[i] * order)/(1 + sum(np.exp(c0_test[j] + c1_test[j] * order) for j in range(m-1))))\n",
    "                else:\n",
    "                    P.insert(0, 1-sum(P))         \n",
    "            y = RV_Multinomial(order, P, U[rep][t])\n",
    "\n",
    "            f[t, rep] = int(order>0)\n",
    "            h[t, rep] = max(order + sum(state) - demand[t], 0)\n",
    "            l[t, rep] = max(demand[t] - order - sum(state), 0)\n",
    "            w[t, rep] = max(state[m-2] + y[0] - demand[t], 0)\n",
    "           # Update the inventory state\n",
    "            newState = [0 for i in range(m-1)]\n",
    "            for j in range(m-2):\n",
    "                newState[m-2-j] = max(state[m-3-j] + y[j+1] - max(demand[t] - sum(state[m-2-k] + y[k] for k in range(j+1)), 0), 0)\n",
    "            newState[0] = max(y[m-1] - max(demand[t] - sum(state[m-2-k] + y[k] for k in range(m-1)), 0), 0)\n",
    "            cost += pow(alpha, t)*(cs[0]*int(order>0) + cs[1]*max(order + sum(state) - demand[t], 0) + cs[2]*max(demand[t] - order - sum(state), 0) + cs[3]*max(state[m-2] + y[0] - demand[t], 0))\n",
    "            state = newState\n",
    "            \n",
    "        result.append(cost)  \n",
    "     \n",
    "    return result, f, h, l, w, x, q    "
   ]
  },
  {
   "cell_type": "code",
   "execution_count": 38,
   "id": "87ca9f8f",
   "metadata": {},
   "outputs": [],
   "source": [
    "m = 5\n",
    "cs = [10, 1, 20, 2]\n",
    "c0_test = [1.9, 3.1, 3.1, 2.5]\n",
    "c1_test = [-0.03, -0.06, -0.03, -0.09]\n",
    "size = [3.497361, 10.985837, 7.183407, 11.064622, 5.930222, 5.473242, 2.193797]\n",
    "prob = [size[0] / (size[0] + 5.660569), size[1] / (size[1] + 6.922555), size[2] / (size[2] + 6.504332),\n",
    "        size[3] / (size[3] + 6.165049), size[4] / (size[4] + 5.816060), size[5] / (size[5] + 3.326408),\n",
    "        size[6] / (size[6] + 3.426814)]"
   ]
  },
  {
   "cell_type": "code",
   "execution_count": 39,
   "id": "badda08e",
   "metadata": {},
   "outputs": [],
   "source": [
    "# Simulate out-of-sample demand data\n",
    "\n",
    "# Generate the sequence of dates\n",
    "dates = pd.date_range(start=\"2017-01-01\", end=\"2017-12-31\", freq=\"D\")\n",
    "\n",
    "# Generate random demand for each day\n",
    "np.random.seed(123)  # For reproducibility\n",
    "y = [np.random.negative_binomial(size[day], prob[day]) for day in dates.weekday]"
   ]
  },
  {
   "cell_type": "code",
   "execution_count": 40,
   "id": "af9d1cec",
   "metadata": {},
   "outputs": [],
   "source": [
    "# cs = [10, 1, 20, 2]\n",
    "pi = (8.0, 15.0)"
   ]
  },
  {
   "cell_type": "code",
   "execution_count": 41,
   "id": "f86c14ec",
   "metadata": {},
   "outputs": [],
   "source": [
    "# cs = [20, 1, 20, 20]\n",
    "# pi = (6.0, 14.0)"
   ]
  },
  {
   "cell_type": "code",
   "execution_count": 42,
   "id": "feef469f",
   "metadata": {},
   "outputs": [],
   "source": [
    "# cs = [20, 1, 20, 5] / [20, 1, 20, 2]\n",
    "# pi = (7.0, 18.0)"
   ]
  },
  {
   "cell_type": "code",
   "execution_count": 43,
   "id": "53ddf300",
   "metadata": {},
   "outputs": [],
   "source": [
    "# cs = [10, 1, 20, 5]\n",
    "# pi = (8.0, 14.0)"
   ]
  },
  {
   "cell_type": "code",
   "execution_count": 44,
   "id": "e33d157f",
   "metadata": {},
   "outputs": [],
   "source": [
    "# cs = [10, 1, 20, 20]\n",
    "# pi = (7.0, 12.0)"
   ]
  },
  {
   "cell_type": "code",
   "execution_count": 45,
   "id": "ecefa7ff",
   "metadata": {},
   "outputs": [],
   "source": [
    "Cost, fixed, holding, shortage, wastage, ordersize, targetlevels = ExpCost_sS(pi , demand = y, alpha = 0.95, replication = 100)"
   ]
  },
  {
   "cell_type": "code",
   "execution_count": 46,
   "id": "5029dfb9",
   "metadata": {},
   "outputs": [
    {
     "data": {
      "text/plain": [
       "(49.980821917808214, 49.89205783461278, 50.06958600100365, 0.08876408319543455)"
      ]
     },
     "execution_count": 46,
     "metadata": {},
     "output_type": "execute_result"
    }
   ],
   "source": [
    "mean_confidence_interval_95(fixed.sum(axis=0)*100/365)"
   ]
  },
  {
   "cell_type": "code",
   "execution_count": 47,
   "id": "8ff55984",
   "metadata": {},
   "outputs": [
    {
     "data": {
      "text/plain": [
       "(2033.71, 2032.2951709121317, 2035.1248290878684, 1.4148290878684917)"
      ]
     },
     "execution_count": 47,
     "metadata": {},
     "output_type": "execute_result"
    }
   ],
   "source": [
    "mean_confidence_interval_95(shortage.sum(axis = 0) + ordersize.sum(axis = 0))"
   ]
  },
  {
   "cell_type": "code",
   "execution_count": 48,
   "id": "62ed2207",
   "metadata": {},
   "outputs": [
    {
     "data": {
      "text/plain": [
       "(7.669452054794521,\n",
       " 7.6640269466959445,\n",
       " 7.674877162893097,\n",
       " 0.005425108098575839)"
      ]
     },
     "execution_count": 48,
     "metadata": {},
     "output_type": "execute_result"
    }
   ],
   "source": [
    "mean_confidence_interval_95(holding.sum(axis=0)/365)"
   ]
  },
  {
   "cell_type": "code",
   "execution_count": 49,
   "id": "a67c3c87",
   "metadata": {},
   "outputs": [
    {
     "data": {
      "text/plain": [
       "(1.8149480016869797,\n",
       " 1.769095396812345,\n",
       " 1.8608006065616143,\n",
       " 0.045852604874634675)"
      ]
     },
     "execution_count": 49,
     "metadata": {},
     "output_type": "execute_result"
    }
   ],
   "source": [
    "mean_confidence_interval_95(shortage.sum(axis = 0)/(shortage.sum(axis = 0) + ordersize.sum(axis = 0))*100)"
   ]
  },
  {
   "cell_type": "code",
   "execution_count": 50,
   "id": "ba0ce233",
   "metadata": {},
   "outputs": [
    {
     "data": {
      "text/plain": [
       "(5.36832539390675, 5.302603103701932, 5.434047684111569, 0.06572229020481855)"
      ]
     },
     "execution_count": 50,
     "metadata": {},
     "output_type": "execute_result"
    }
   ],
   "source": [
    "mean_confidence_interval_95(wastage.sum(axis = 0)/(shortage.sum(axis = 0) + ordersize.sum(axis = 0))*100)"
   ]
  },
  {
   "cell_type": "code",
   "execution_count": 51,
   "id": "6c2a54ad",
   "metadata": {},
   "outputs": [
    {
     "data": {
      "text/plain": [
       "(293.5975551017731, 292.356669787616, 294.83844041593017, 1.2408853141570604)"
      ]
     },
     "execution_count": 51,
     "metadata": {},
     "output_type": "execute_result"
    }
   ],
   "source": [
    "mean_confidence_interval_95(Cost)"
   ]
  },
  {
   "cell_type": "code",
   "execution_count": 52,
   "id": "9034f7d4",
   "metadata": {},
   "outputs": [
    {
     "data": {
      "text/html": [
       "<div>\n",
       "<style scoped>\n",
       "    .dataframe tbody tr th:only-of-type {\n",
       "        vertical-align: middle;\n",
       "    }\n",
       "\n",
       "    .dataframe tbody tr th {\n",
       "        vertical-align: top;\n",
       "    }\n",
       "\n",
       "    .dataframe thead th {\n",
       "        text-align: right;\n",
       "    }\n",
       "</style>\n",
       "<table border=\"1\" class=\"dataframe\">\n",
       "  <thead>\n",
       "    <tr style=\"text-align: right;\">\n",
       "      <th></th>\n",
       "      <th>0</th>\n",
       "      <th>1</th>\n",
       "      <th>2</th>\n",
       "      <th>3</th>\n",
       "      <th>4</th>\n",
       "      <th>5</th>\n",
       "      <th>6</th>\n",
       "      <th>7</th>\n",
       "      <th>8</th>\n",
       "      <th>9</th>\n",
       "      <th>...</th>\n",
       "      <th>90</th>\n",
       "      <th>91</th>\n",
       "      <th>92</th>\n",
       "      <th>93</th>\n",
       "      <th>94</th>\n",
       "      <th>95</th>\n",
       "      <th>96</th>\n",
       "      <th>97</th>\n",
       "      <th>98</th>\n",
       "      <th>99</th>\n",
       "    </tr>\n",
       "  </thead>\n",
       "  <tbody>\n",
       "    <tr>\n",
       "      <th>0</th>\n",
       "      <td>15.0</td>\n",
       "      <td>15.0</td>\n",
       "      <td>15.0</td>\n",
       "      <td>15.0</td>\n",
       "      <td>15.0</td>\n",
       "      <td>15.0</td>\n",
       "      <td>15.0</td>\n",
       "      <td>15.0</td>\n",
       "      <td>15.0</td>\n",
       "      <td>15.0</td>\n",
       "      <td>...</td>\n",
       "      <td>15.0</td>\n",
       "      <td>15.0</td>\n",
       "      <td>15.0</td>\n",
       "      <td>15.0</td>\n",
       "      <td>15.0</td>\n",
       "      <td>15.0</td>\n",
       "      <td>15.0</td>\n",
       "      <td>15.0</td>\n",
       "      <td>15.0</td>\n",
       "      <td>15.0</td>\n",
       "    </tr>\n",
       "    <tr>\n",
       "      <th>1</th>\n",
       "      <td>13.0</td>\n",
       "      <td>13.0</td>\n",
       "      <td>13.0</td>\n",
       "      <td>13.0</td>\n",
       "      <td>13.0</td>\n",
       "      <td>13.0</td>\n",
       "      <td>13.0</td>\n",
       "      <td>13.0</td>\n",
       "      <td>13.0</td>\n",
       "      <td>13.0</td>\n",
       "      <td>...</td>\n",
       "      <td>13.0</td>\n",
       "      <td>13.0</td>\n",
       "      <td>13.0</td>\n",
       "      <td>13.0</td>\n",
       "      <td>13.0</td>\n",
       "      <td>13.0</td>\n",
       "      <td>13.0</td>\n",
       "      <td>13.0</td>\n",
       "      <td>13.0</td>\n",
       "      <td>13.0</td>\n",
       "    </tr>\n",
       "    <tr>\n",
       "      <th>2</th>\n",
       "      <td>15.0</td>\n",
       "      <td>15.0</td>\n",
       "      <td>15.0</td>\n",
       "      <td>15.0</td>\n",
       "      <td>15.0</td>\n",
       "      <td>15.0</td>\n",
       "      <td>15.0</td>\n",
       "      <td>15.0</td>\n",
       "      <td>15.0</td>\n",
       "      <td>15.0</td>\n",
       "      <td>...</td>\n",
       "      <td>15.0</td>\n",
       "      <td>15.0</td>\n",
       "      <td>15.0</td>\n",
       "      <td>15.0</td>\n",
       "      <td>15.0</td>\n",
       "      <td>15.0</td>\n",
       "      <td>15.0</td>\n",
       "      <td>15.0</td>\n",
       "      <td>15.0</td>\n",
       "      <td>15.0</td>\n",
       "    </tr>\n",
       "    <tr>\n",
       "      <th>3</th>\n",
       "      <td>15.0</td>\n",
       "      <td>15.0</td>\n",
       "      <td>15.0</td>\n",
       "      <td>15.0</td>\n",
       "      <td>15.0</td>\n",
       "      <td>15.0</td>\n",
       "      <td>15.0</td>\n",
       "      <td>15.0</td>\n",
       "      <td>15.0</td>\n",
       "      <td>15.0</td>\n",
       "      <td>...</td>\n",
       "      <td>15.0</td>\n",
       "      <td>15.0</td>\n",
       "      <td>15.0</td>\n",
       "      <td>15.0</td>\n",
       "      <td>15.0</td>\n",
       "      <td>15.0</td>\n",
       "      <td>15.0</td>\n",
       "      <td>15.0</td>\n",
       "      <td>15.0</td>\n",
       "      <td>15.0</td>\n",
       "    </tr>\n",
       "    <tr>\n",
       "      <th>4</th>\n",
       "      <td>11.0</td>\n",
       "      <td>11.0</td>\n",
       "      <td>11.0</td>\n",
       "      <td>11.0</td>\n",
       "      <td>11.0</td>\n",
       "      <td>11.0</td>\n",
       "      <td>11.0</td>\n",
       "      <td>11.0</td>\n",
       "      <td>11.0</td>\n",
       "      <td>11.0</td>\n",
       "      <td>...</td>\n",
       "      <td>11.0</td>\n",
       "      <td>11.0</td>\n",
       "      <td>11.0</td>\n",
       "      <td>11.0</td>\n",
       "      <td>11.0</td>\n",
       "      <td>11.0</td>\n",
       "      <td>11.0</td>\n",
       "      <td>11.0</td>\n",
       "      <td>11.0</td>\n",
       "      <td>11.0</td>\n",
       "    </tr>\n",
       "    <tr>\n",
       "      <th>...</th>\n",
       "      <td>...</td>\n",
       "      <td>...</td>\n",
       "      <td>...</td>\n",
       "      <td>...</td>\n",
       "      <td>...</td>\n",
       "      <td>...</td>\n",
       "      <td>...</td>\n",
       "      <td>...</td>\n",
       "      <td>...</td>\n",
       "      <td>...</td>\n",
       "      <td>...</td>\n",
       "      <td>...</td>\n",
       "      <td>...</td>\n",
       "      <td>...</td>\n",
       "      <td>...</td>\n",
       "      <td>...</td>\n",
       "      <td>...</td>\n",
       "      <td>...</td>\n",
       "      <td>...</td>\n",
       "      <td>...</td>\n",
       "      <td>...</td>\n",
       "    </tr>\n",
       "    <tr>\n",
       "      <th>360</th>\n",
       "      <td>15.0</td>\n",
       "      <td>15.0</td>\n",
       "      <td>15.0</td>\n",
       "      <td>15.0</td>\n",
       "      <td>15.0</td>\n",
       "      <td>15.0</td>\n",
       "      <td>15.0</td>\n",
       "      <td>15.0</td>\n",
       "      <td>15.0</td>\n",
       "      <td>15.0</td>\n",
       "      <td>...</td>\n",
       "      <td>15.0</td>\n",
       "      <td>15.0</td>\n",
       "      <td>15.0</td>\n",
       "      <td>15.0</td>\n",
       "      <td>15.0</td>\n",
       "      <td>15.0</td>\n",
       "      <td>15.0</td>\n",
       "      <td>15.0</td>\n",
       "      <td>15.0</td>\n",
       "      <td>15.0</td>\n",
       "    </tr>\n",
       "    <tr>\n",
       "      <th>361</th>\n",
       "      <td>14.0</td>\n",
       "      <td>14.0</td>\n",
       "      <td>14.0</td>\n",
       "      <td>14.0</td>\n",
       "      <td>11.0</td>\n",
       "      <td>14.0</td>\n",
       "      <td>14.0</td>\n",
       "      <td>14.0</td>\n",
       "      <td>14.0</td>\n",
       "      <td>14.0</td>\n",
       "      <td>...</td>\n",
       "      <td>14.0</td>\n",
       "      <td>14.0</td>\n",
       "      <td>14.0</td>\n",
       "      <td>14.0</td>\n",
       "      <td>14.0</td>\n",
       "      <td>14.0</td>\n",
       "      <td>14.0</td>\n",
       "      <td>14.0</td>\n",
       "      <td>14.0</td>\n",
       "      <td>14.0</td>\n",
       "    </tr>\n",
       "    <tr>\n",
       "      <th>362</th>\n",
       "      <td>10.0</td>\n",
       "      <td>11.0</td>\n",
       "      <td>11.0</td>\n",
       "      <td>11.0</td>\n",
       "      <td>8.0</td>\n",
       "      <td>11.0</td>\n",
       "      <td>9.0</td>\n",
       "      <td>11.0</td>\n",
       "      <td>11.0</td>\n",
       "      <td>9.0</td>\n",
       "      <td>...</td>\n",
       "      <td>11.0</td>\n",
       "      <td>11.0</td>\n",
       "      <td>11.0</td>\n",
       "      <td>11.0</td>\n",
       "      <td>11.0</td>\n",
       "      <td>11.0</td>\n",
       "      <td>11.0</td>\n",
       "      <td>11.0</td>\n",
       "      <td>10.0</td>\n",
       "      <td>11.0</td>\n",
       "    </tr>\n",
       "    <tr>\n",
       "      <th>363</th>\n",
       "      <td>15.0</td>\n",
       "      <td>15.0</td>\n",
       "      <td>15.0</td>\n",
       "      <td>15.0</td>\n",
       "      <td>15.0</td>\n",
       "      <td>15.0</td>\n",
       "      <td>15.0</td>\n",
       "      <td>15.0</td>\n",
       "      <td>15.0</td>\n",
       "      <td>15.0</td>\n",
       "      <td>...</td>\n",
       "      <td>15.0</td>\n",
       "      <td>15.0</td>\n",
       "      <td>15.0</td>\n",
       "      <td>15.0</td>\n",
       "      <td>15.0</td>\n",
       "      <td>15.0</td>\n",
       "      <td>15.0</td>\n",
       "      <td>15.0</td>\n",
       "      <td>15.0</td>\n",
       "      <td>15.0</td>\n",
       "    </tr>\n",
       "    <tr>\n",
       "      <th>364</th>\n",
       "      <td>13.0</td>\n",
       "      <td>13.0</td>\n",
       "      <td>13.0</td>\n",
       "      <td>11.0</td>\n",
       "      <td>13.0</td>\n",
       "      <td>12.0</td>\n",
       "      <td>13.0</td>\n",
       "      <td>12.0</td>\n",
       "      <td>12.0</td>\n",
       "      <td>13.0</td>\n",
       "      <td>...</td>\n",
       "      <td>13.0</td>\n",
       "      <td>11.0</td>\n",
       "      <td>10.0</td>\n",
       "      <td>13.0</td>\n",
       "      <td>11.0</td>\n",
       "      <td>13.0</td>\n",
       "      <td>13.0</td>\n",
       "      <td>12.0</td>\n",
       "      <td>13.0</td>\n",
       "      <td>13.0</td>\n",
       "    </tr>\n",
       "  </tbody>\n",
       "</table>\n",
       "<p>365 rows × 100 columns</p>\n",
       "</div>"
      ],
      "text/plain": [
       "       0     1     2     3     4     5     6     7     8     9   ...    90  \\\n",
       "0    15.0  15.0  15.0  15.0  15.0  15.0  15.0  15.0  15.0  15.0  ...  15.0   \n",
       "1    13.0  13.0  13.0  13.0  13.0  13.0  13.0  13.0  13.0  13.0  ...  13.0   \n",
       "2    15.0  15.0  15.0  15.0  15.0  15.0  15.0  15.0  15.0  15.0  ...  15.0   \n",
       "3    15.0  15.0  15.0  15.0  15.0  15.0  15.0  15.0  15.0  15.0  ...  15.0   \n",
       "4    11.0  11.0  11.0  11.0  11.0  11.0  11.0  11.0  11.0  11.0  ...  11.0   \n",
       "..    ...   ...   ...   ...   ...   ...   ...   ...   ...   ...  ...   ...   \n",
       "360  15.0  15.0  15.0  15.0  15.0  15.0  15.0  15.0  15.0  15.0  ...  15.0   \n",
       "361  14.0  14.0  14.0  14.0  11.0  14.0  14.0  14.0  14.0  14.0  ...  14.0   \n",
       "362  10.0  11.0  11.0  11.0   8.0  11.0   9.0  11.0  11.0   9.0  ...  11.0   \n",
       "363  15.0  15.0  15.0  15.0  15.0  15.0  15.0  15.0  15.0  15.0  ...  15.0   \n",
       "364  13.0  13.0  13.0  11.0  13.0  12.0  13.0  12.0  12.0  13.0  ...  13.0   \n",
       "\n",
       "       91    92    93    94    95    96    97    98    99  \n",
       "0    15.0  15.0  15.0  15.0  15.0  15.0  15.0  15.0  15.0  \n",
       "1    13.0  13.0  13.0  13.0  13.0  13.0  13.0  13.0  13.0  \n",
       "2    15.0  15.0  15.0  15.0  15.0  15.0  15.0  15.0  15.0  \n",
       "3    15.0  15.0  15.0  15.0  15.0  15.0  15.0  15.0  15.0  \n",
       "4    11.0  11.0  11.0  11.0  11.0  11.0  11.0  11.0  11.0  \n",
       "..    ...   ...   ...   ...   ...   ...   ...   ...   ...  \n",
       "360  15.0  15.0  15.0  15.0  15.0  15.0  15.0  15.0  15.0  \n",
       "361  14.0  14.0  14.0  14.0  14.0  14.0  14.0  14.0  14.0  \n",
       "362  11.0  11.0  11.0  11.0  11.0  11.0  11.0  10.0  11.0  \n",
       "363  15.0  15.0  15.0  15.0  15.0  15.0  15.0  15.0  15.0  \n",
       "364  11.0  10.0  13.0  11.0  13.0  13.0  12.0  13.0  13.0  \n",
       "\n",
       "[365 rows x 100 columns]"
      ]
     },
     "execution_count": 52,
     "metadata": {},
     "output_type": "execute_result"
    }
   ],
   "source": [
    "pd.DataFrame(targetlevels)"
   ]
  },
  {
   "cell_type": "code",
   "execution_count": null,
   "id": "dc7af95f",
   "metadata": {},
   "outputs": [],
   "source": []
  }
 ],
 "metadata": {
  "kernelspec": {
   "display_name": "Python 3",
   "language": "python",
   "name": "python3"
  },
  "language_info": {
   "codemirror_mode": {
    "name": "ipython",
    "version": 3
   },
   "file_extension": ".py",
   "mimetype": "text/x-python",
   "name": "python",
   "nbconvert_exporter": "python",
   "pygments_lexer": "ipython3",
   "version": "3.6.13"
  }
 },
 "nbformat": 4,
 "nbformat_minor": 5
}
